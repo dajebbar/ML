{
  "nbformat": 4,
  "nbformat_minor": 0,
  "metadata": {
    "colab": {
      "name": "NN_Demo.ipynb",
      "provenance": [],
      "authorship_tag": "ABX9TyOJpMxUzlnl5jJyj+e1XcaC",
      "include_colab_link": true
    },
    "kernelspec": {
      "name": "python3",
      "display_name": "Python 3"
    },
    "language_info": {
      "name": "python"
    }
  },
  "cells": [
    {
      "cell_type": "markdown",
      "metadata": {
        "id": "view-in-github",
        "colab_type": "text"
      },
      "source": [
        "<a href=\"https://colab.research.google.com/github/dajebbar/ML/blob/main/NN_Demo.ipynb\" target=\"_parent\"><img src=\"https://colab.research.google.com/assets/colab-badge.svg\" alt=\"Open In Colab\"/></a>"
      ]
    },
    {
      "cell_type": "code",
      "execution_count": 1,
      "metadata": {
        "id": "_gFYMrFFWhHz"
      },
      "outputs": [],
      "source": [
        "import numpy as np"
      ]
    },
    {
      "cell_type": "code",
      "source": [
        "# sigmoid function\n",
        "def sigmoid(x):\n",
        "  return 1 / (1 + np.exp(-x))\n",
        "\n",
        "# derivative of sigmoid function\n",
        "def sigmoid_derivative(x):\n",
        "  return x * (1 - x)"
      ],
      "metadata": {
        "id": "saZw69UCWpgU"
      },
      "execution_count": 2,
      "outputs": []
    },
    {
      "cell_type": "code",
      "source": [
        "# Neural Network class\n",
        "\n",
        "class NeuralNetwork:\n",
        "\n",
        "  def __init__(self, x, y):\n",
        "    self.x = x\n",
        "    self.y = y\n",
        "    self.weights_1 = np.random.rand(self.x.shape[1], 4)\n",
        "    self.weights_2 = np.random.rand(4, 1)\n",
        "    self.output = np.zeros(self.y.shape)\n",
        "  \n",
        "  def forward_propagation(self):\n",
        "    self.layer_1 = sigmoid(self.x @ self.weights_1)\n",
        "    self.output = sigmoid(self.weights_1 @ self.weights_2)\n",
        "  \n",
        "  def backward_propagation(self):\n",
        "    d_weights_2 = np.dot(\n",
        "        self.layer_1.T,\n",
        "        (2 * (self.y - self.output) * sigmoid_derivative(self.output))\n",
        "    )\n",
        "\n",
        "    d_weights_1 = np.dot(\n",
        "        self.x.T,\n",
        "        (np.dot(2 * (self.y - self.output) * sigmoid_derivative(self.output),\n",
        "                self.weights_2.T\n",
        "                ) * sigmoid_derivative(self.layer_1))\n",
        "    )\n",
        "\n",
        "    self.weights_1 = self.weights_1 + d_weights_1\n",
        "    self.weights_2 = self.weights_2 + d_weights_2\n",
        "  \n",
        "  def display_infos(self):\n",
        "    print('X:\\n', self.x)\n",
        "    print()\n",
        "    print('y:\\n', self.y)\n",
        "    print()\n",
        "    print('weights L1:\\n', self.weights_1)\n",
        "    print()\n",
        "    print('weights L2:\\n', self.weights_2)\n",
        "    print()\n",
        "    print('Preds(outputs): \\n', self.output)\n",
        "\n",
        "\n",
        "  \n",
        "\n",
        "  \n"
      ],
      "metadata": {
        "id": "K5um1rgYXouz"
      },
      "execution_count": 3,
      "outputs": []
    },
    {
      "cell_type": "code",
      "source": [
        "X = np.array([\n",
        "              [0, 0, 1],\n",
        "              [0, 1, 1],\n",
        "              [1, 0, 1],\n",
        "              [1, 1, 1]\n",
        "])\n",
        "\n",
        "y = np.array([\n",
        "              [0],\n",
        "              [1],\n",
        "              [1],\n",
        "              [0]\n",
        "])"
      ],
      "metadata": {
        "id": "Fv2svxhqcr6G"
      },
      "execution_count": 4,
      "outputs": []
    },
    {
      "cell_type": "code",
      "source": [
        "nn = NeuralNetwork(X, y)\n",
        "nn.display_infos()\n",
        "# for i in range(10000):\n",
        "#   nn.forward_propagation()\n",
        "#   nn.backward_propagation()\n",
        "\n",
        "# print(nn.output)"
      ],
      "metadata": {
        "colab": {
          "base_uri": "https://localhost:8080/"
        },
        "id": "jC1-C94ddJ9o",
        "outputId": "87de0081-e761-42d1-d7ea-6aab24e9f1a6"
      },
      "execution_count": 5,
      "outputs": [
        {
          "output_type": "stream",
          "name": "stdout",
          "text": [
            "X:\n",
            " [[0 0 1]\n",
            " [0 1 1]\n",
            " [1 0 1]\n",
            " [1 1 1]]\n",
            "\n",
            "y:\n",
            " [[0]\n",
            " [1]\n",
            " [1]\n",
            " [0]]\n",
            "\n",
            "weights L1:\n",
            " [[0.09761368 0.10676897 0.97143099 0.82004842]\n",
            " [0.41376599 0.69072509 0.51276142 0.17538403]\n",
            " [0.56195839 0.49978858 0.81464773 0.06059647]]\n",
            "\n",
            "weights L2:\n",
            " [[0.37674774]\n",
            " [0.35833144]\n",
            " [0.68129324]\n",
            " [0.52233842]]\n",
            "\n",
            "Preds(outputs): \n",
            " [[0.]\n",
            " [0.]\n",
            " [0.]\n",
            " [0.]]\n"
          ]
        }
      ]
    },
    {
      "cell_type": "code",
      "source": [
        ""
      ],
      "metadata": {
        "id": "LG8PKQGJea1v"
      },
      "execution_count": 5,
      "outputs": []
    }
  ]
}