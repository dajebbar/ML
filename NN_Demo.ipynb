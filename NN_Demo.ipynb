{
  "nbformat": 4,
  "nbformat_minor": 0,
  "metadata": {
    "colab": {
      "name": "NN_Demo.ipynb",
      "provenance": [],
      "authorship_tag": "ABX9TyNra0gs1oSIrC5OIqLmFcAu",
      "include_colab_link": true
    },
    "kernelspec": {
      "name": "python3",
      "display_name": "Python 3"
    },
    "language_info": {
      "name": "python"
    }
  },
  "cells": [
    {
      "cell_type": "markdown",
      "metadata": {
        "id": "view-in-github",
        "colab_type": "text"
      },
      "source": [
        "<a href=\"https://colab.research.google.com/github/dajebbar/ML/blob/main/NN_Demo.ipynb\" target=\"_parent\"><img src=\"https://colab.research.google.com/assets/colab-badge.svg\" alt=\"Open In Colab\"/></a>"
      ]
    },
    {
      "cell_type": "code",
      "execution_count": 1,
      "metadata": {
        "id": "_gFYMrFFWhHz"
      },
      "outputs": [],
      "source": [
        "import numpy as np"
      ]
    },
    {
      "cell_type": "code",
      "source": [
        "# sigmoid function\n",
        "def sigmoid(x):\n",
        "  return 1 / (1 + np.exp(-x))\n",
        "\n",
        "# derivative of sigmoid function\n",
        "def sigmoid_derivative(x):\n",
        "  return x * (1 - x)"
      ],
      "metadata": {
        "id": "saZw69UCWpgU"
      },
      "execution_count": 2,
      "outputs": []
    },
    {
      "cell_type": "code",
      "source": [
        "# Neural Network class\n",
        "\n",
        "class NeuralNetwork:\n",
        "\n",
        "  def __init__(self, x, y):\n",
        "    self.x = x\n",
        "    self.y = y\n",
        "    self.weights_1 = np.random.rand(self.x.shape[1], 4)\n",
        "    self.weights_2 = np.random.rand(4, 1)\n",
        "    self.output = np.zeros(self.y.shape)\n",
        "  \n",
        "  def forward_propagation(self):\n",
        "    self.layer_1 = sigmoid(np.dot(self.x, self.weights_1))\n",
        "    self.output = sigmoid(np.dot(self.layer_1, self.weights_2))\n",
        "  \n",
        "  def backward_propagation(self):\n",
        "    d_weights_2 = np.dot(\n",
        "        self.layer_1.T,\n",
        "        (2 * (self.y - self.output) * sigmoid_derivative(self.output))\n",
        "    )\n",
        "\n",
        "    d_weights_1 = np.dot(\n",
        "        self.x.T,\n",
        "        (np.dot(2 * (self.y - self.output) * sigmoid_derivative(self.output),\n",
        "                self.weights_2.T\n",
        "                ) * sigmoid_derivative(self.layer_1))\n",
        "    )\n",
        "\n",
        "    self.weights_1 = self.weights_1 + d_weights_1\n",
        "    self.weights_2 = self.weights_2 + d_weights_2\n",
        "  \n",
        "  def display_infos(self):\n",
        "    print('X:\\n', self.x)\n",
        "    print()\n",
        "    print('y:\\n', self.y)\n",
        "    print()\n",
        "    print('weights L1:\\n', self.weights_1)\n",
        "    print()\n",
        "    print('weights L2:\\n', self.weights_2)\n",
        "    print()\n",
        "    print('Preds(outputs): \\n', self.output)\n",
        "\n",
        "\n",
        "  \n",
        "\n",
        "  \n"
      ],
      "metadata": {
        "id": "K5um1rgYXouz"
      },
      "execution_count": 3,
      "outputs": []
    },
    {
      "cell_type": "code",
      "source": [
        "X = np.array([\n",
        "              [0, 0, 1],\n",
        "              [0, 1, 1],\n",
        "              [1, 0, 1],\n",
        "              [1, 1, 1]\n",
        "])\n",
        "\n",
        "y = np.array([\n",
        "              [0],\n",
        "              [1],\n",
        "              [1],\n",
        "              [0]\n",
        "])"
      ],
      "metadata": {
        "id": "Fv2svxhqcr6G"
      },
      "execution_count": 4,
      "outputs": []
    },
    {
      "cell_type": "code",
      "source": [
        "nn = NeuralNetwork(X, y)\n",
        "\n",
        "for i in range(10000):\n",
        "  nn.forward_propagation()\n",
        "  nn.backward_propagation()\n",
        "\n",
        "nn.display_infos()\n",
        "print('=*=' * 10)\n",
        "print('Preds Result: ', nn.output)"
      ],
      "metadata": {
        "colab": {
          "base_uri": "https://localhost:8080/"
        },
        "id": "jC1-C94ddJ9o",
        "outputId": "42130aa0-a2e5-444e-f19c-4314662c259e"
      },
      "execution_count": 5,
      "outputs": [
        {
          "output_type": "stream",
          "name": "stdout",
          "text": [
            "X:\n",
            " [[0 0 1]\n",
            " [0 1 1]\n",
            " [1 0 1]\n",
            " [1 1 1]]\n",
            "\n",
            "y:\n",
            " [[0]\n",
            " [1]\n",
            " [1]\n",
            " [0]]\n",
            "\n",
            "weights L1:\n",
            " [[ 2.13056006  4.60744983  7.16862982  2.3700207 ]\n",
            " [ 3.91234777 -3.45453198  6.41693304  4.13256585]\n",
            " [-4.55005298  2.36772311 -3.07085888 -4.90631324]]\n",
            "\n",
            "weights L2:\n",
            " [[-6.44700659]\n",
            " [-5.74735238]\n",
            " [11.7450224 ]\n",
            " [-7.10821598]]\n",
            "\n",
            "Preds(outputs): \n",
            " [[0.0077371 ]\n",
            " [0.99560446]\n",
            " [0.99153214]\n",
            " [0.00661389]]\n",
            "=*==*==*==*==*==*==*==*==*==*=\n",
            "Preds Result:  [[0.0077371 ]\n",
            " [0.99560446]\n",
            " [0.99153214]\n",
            " [0.00661389]]\n"
          ]
        }
      ]
    },
    {
      "cell_type": "code",
      "source": [
        ""
      ],
      "metadata": {
        "id": "LG8PKQGJea1v"
      },
      "execution_count": 5,
      "outputs": []
    }
  ]
}