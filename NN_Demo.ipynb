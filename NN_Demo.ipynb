{
  "nbformat": 4,
  "nbformat_minor": 0,
  "metadata": {
    "colab": {
      "name": "NN_Demo.ipynb",
      "provenance": [],
      "authorship_tag": "ABX9TyMQhhgtKTjm5hw482u+rgQ4",
      "include_colab_link": true
    },
    "kernelspec": {
      "name": "python3",
      "display_name": "Python 3"
    },
    "language_info": {
      "name": "python"
    }
  },
  "cells": [
    {
      "cell_type": "markdown",
      "metadata": {
        "id": "view-in-github",
        "colab_type": "text"
      },
      "source": [
        "<a href=\"https://colab.research.google.com/github/dajebbar/ML/blob/main/NN_Demo.ipynb\" target=\"_parent\"><img src=\"https://colab.research.google.com/assets/colab-badge.svg\" alt=\"Open In Colab\"/></a>"
      ]
    },
    {
      "cell_type": "code",
      "execution_count": 1,
      "metadata": {
        "id": "_gFYMrFFWhHz"
      },
      "outputs": [],
      "source": [
        "import numpy as np"
      ]
    },
    {
      "cell_type": "code",
      "source": [
        "# sigmoid function\n",
        "def sigmoid(x):\n",
        "  return 1 / (1 + np.exp(-x))\n",
        "\n",
        "# derivative of sigmoid function\n",
        "def sigmoid_derivative(x):\n",
        "  return x * (1 - x)"
      ],
      "metadata": {
        "id": "saZw69UCWpgU"
      },
      "execution_count": 2,
      "outputs": []
    },
    {
      "cell_type": "code",
      "source": [
        "# Neural Network class\n",
        "\n",
        "class NeuralNetwork:\n",
        "\n",
        "  def __init__(self, x, y):\n",
        "    self.x = x\n",
        "    self.x = y\n",
        "    self.weights_1 = np.random.rand(self.x.shape[1], 4)\n",
        "    self.weights_2 = np.random.rand(4, 1)\n",
        "    self.output = np.zeros(self.y.shape)\n",
        "  \n",
        "  def forward_propagation(self):\n",
        "    self.layer_1 = sigmoid(self.x @ self.weights_1)\n",
        "    self.output = sigmoid(self.weights_1 @ self.weights_2)\n",
        "  \n",
        "  def backward_propagation(self):\n",
        "    d_weights_2 = np.dot(\n",
        "        self.layer_1.T,\n",
        "        (2 * (self.y - self.output) * sigmoid_derivative(self.output))\n",
        "    )\n",
        "\n",
        "    d_weights_1 = np.dot(\n",
        "        self.x.T,\n",
        "        (np.dot(2 * (self.y - self.output) * sigmoid_derivative(self.output),\n",
        "                self.weights_2.T\n",
        "                ) * sigmoid_derivative(self.layer_1))\n",
        "    )\n",
        "\n",
        "    self.weights_1 = self.weights_1 + d_weights_1\n",
        "    self.weights_2 = self.weights_2 + d_weights_2\n",
        "  \n",
        "\n",
        "  \n"
      ],
      "metadata": {
        "id": "K5um1rgYXouz"
      },
      "execution_count": 3,
      "outputs": []
    },
    {
      "cell_type": "code",
      "source": [
        "X = np.array([\n",
        "              [0, 0, 1],\n",
        "              [0, 1, 1],\n",
        "              [1, 0, 1],\n",
        "              [1, 1, 1]\n",
        "])\n",
        "\n",
        "y = np.array([\n",
        "              [0],\n",
        "              [1],\n",
        "              [1],\n",
        "              [0]\n",
        "])"
      ],
      "metadata": {
        "id": "Fv2svxhqcr6G"
      },
      "execution_count": 4,
      "outputs": []
    },
    {
      "cell_type": "code",
      "source": [
        ""
      ],
      "metadata": {
        "id": "jC1-C94ddJ9o"
      },
      "execution_count": 4,
      "outputs": []
    }
  ]
}