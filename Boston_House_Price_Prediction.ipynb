{
  "nbformat": 4,
  "nbformat_minor": 0,
  "metadata": {
    "colab": {
      "name": "Boston House Price Prediction.ipynb",
      "provenance": [],
      "authorship_tag": "ABX9TyOo9vt2nan3aTEsaDOVKaWM",
      "include_colab_link": true
    },
    "kernelspec": {
      "name": "python3",
      "display_name": "Python 3"
    },
    "language_info": {
      "name": "python"
    }
  },
  "cells": [
    {
      "cell_type": "markdown",
      "metadata": {
        "id": "view-in-github",
        "colab_type": "text"
      },
      "source": [
        "<a href=\"https://colab.research.google.com/github/dajebbar/ML/blob/main/Boston_House_Price_Prediction.ipynb\" target=\"_parent\"><img src=\"https://colab.research.google.com/assets/colab-badge.svg\" alt=\"Open In Colab\"/></a>"
      ]
    },
    {
      "cell_type": "markdown",
      "source": [
        "# Boston House Price Prediction Using Linear Regression"
      ],
      "metadata": {
        "id": "SIm87Psn1MoJ"
      }
    },
    {
      "cell_type": "code",
      "execution_count": 1,
      "metadata": {
        "id": "OmtQL9qA1Em4"
      },
      "outputs": [],
      "source": [
        "import pandas as  pd\n",
        "import numpy as np\n",
        "import matplotlib.pyplot as plt\n",
        "import seaborn as sns\n",
        "import warnings\n",
        "warnings.filterwarnings('ignore')\n",
        "plt.style.use('fivethirtyeight')\n",
        "%matplotlib inline"
      ]
    },
    {
      "cell_type": "code",
      "source": [
        "from sklearn.datasets import load_boston"
      ],
      "metadata": {
        "id": "moWXGbnJ2m6u"
      },
      "execution_count": 2,
      "outputs": []
    },
    {
      "cell_type": "code",
      "source": [
        "def to_csv(target):\n",
        "  with open(target, 'w') as f:\n",
        "    for item in f.read():\n",
        "      if item == '\\t' or ' ':\n",
        "        item = ','"
      ],
      "metadata": {
        "id": "5ckodxEl3KgW"
      },
      "execution_count": 3,
      "outputs": []
    },
    {
      "cell_type": "code",
      "source": [
        "bstn = load_boston()\n",
        "bstn.keys()"
      ],
      "metadata": {
        "colab": {
          "base_uri": "https://localhost:8080/"
        },
        "id": "bf2N-2q5C0-I",
        "outputId": "a0da56e6-5720-435d-b449-96d275cd0aaa"
      },
      "execution_count": 4,
      "outputs": [
        {
          "output_type": "execute_result",
          "data": {
            "text/plain": [
              "dict_keys(['data', 'target', 'feature_names', 'DESCR', 'filename', 'data_module'])"
            ]
          },
          "metadata": {},
          "execution_count": 4
        }
      ]
    },
    {
      "cell_type": "code",
      "source": [
        "df = bstn.data\n",
        "df"
      ],
      "metadata": {
        "colab": {
          "base_uri": "https://localhost:8080/"
        },
        "id": "l5nVM2Q5FFeD",
        "outputId": "d7aba4d6-bbb5-42aa-d289-0e68cdaa4d19"
      },
      "execution_count": 5,
      "outputs": [
        {
          "output_type": "execute_result",
          "data": {
            "text/plain": [
              "array([[6.3200e-03, 1.8000e+01, 2.3100e+00, ..., 1.5300e+01, 3.9690e+02,\n",
              "        4.9800e+00],\n",
              "       [2.7310e-02, 0.0000e+00, 7.0700e+00, ..., 1.7800e+01, 3.9690e+02,\n",
              "        9.1400e+00],\n",
              "       [2.7290e-02, 0.0000e+00, 7.0700e+00, ..., 1.7800e+01, 3.9283e+02,\n",
              "        4.0300e+00],\n",
              "       ...,\n",
              "       [6.0760e-02, 0.0000e+00, 1.1930e+01, ..., 2.1000e+01, 3.9690e+02,\n",
              "        5.6400e+00],\n",
              "       [1.0959e-01, 0.0000e+00, 1.1930e+01, ..., 2.1000e+01, 3.9345e+02,\n",
              "        6.4800e+00],\n",
              "       [4.7410e-02, 0.0000e+00, 1.1930e+01, ..., 2.1000e+01, 3.9690e+02,\n",
              "        7.8800e+00]])"
            ]
          },
          "metadata": {},
          "execution_count": 5
        }
      ]
    },
    {
      "cell_type": "code",
      "source": [
        "print(bstn['feature_names'])"
      ],
      "metadata": {
        "colab": {
          "base_uri": "https://localhost:8080/"
        },
        "id": "V3KHBik7FgTe",
        "outputId": "1607be1e-fbf2-4214-bfee-a52dc7c9c26c"
      },
      "execution_count": 6,
      "outputs": [
        {
          "output_type": "stream",
          "name": "stdout",
          "text": [
            "['CRIM' 'ZN' 'INDUS' 'CHAS' 'NOX' 'RM' 'AGE' 'DIS' 'RAD' 'TAX' 'PTRATIO'\n",
            " 'B' 'LSTAT']\n"
          ]
        }
      ]
    },
    {
      "cell_type": "code",
      "source": [
        "df = pd.DataFrame(data = bstn.data, columns = bstn.feature_names)\n",
        "df['Price'] = bstn.target * 1000\n",
        "df.head()"
      ],
      "metadata": {
        "colab": {
          "base_uri": "https://localhost:8080/",
          "height": 206
        },
        "id": "zHtApZbpFjUA",
        "outputId": "06975ba9-7ca0-48a8-ff02-0e6e01d4f373"
      },
      "execution_count": 7,
      "outputs": [
        {
          "output_type": "execute_result",
          "data": {
            "text/plain": [
              "      CRIM    ZN  INDUS  CHAS    NOX     RM   AGE     DIS  RAD    TAX  \\\n",
              "0  0.00632  18.0   2.31   0.0  0.538  6.575  65.2  4.0900  1.0  296.0   \n",
              "1  0.02731   0.0   7.07   0.0  0.469  6.421  78.9  4.9671  2.0  242.0   \n",
              "2  0.02729   0.0   7.07   0.0  0.469  7.185  61.1  4.9671  2.0  242.0   \n",
              "3  0.03237   0.0   2.18   0.0  0.458  6.998  45.8  6.0622  3.0  222.0   \n",
              "4  0.06905   0.0   2.18   0.0  0.458  7.147  54.2  6.0622  3.0  222.0   \n",
              "\n",
              "   PTRATIO       B  LSTAT    Price  \n",
              "0     15.3  396.90   4.98  24000.0  \n",
              "1     17.8  396.90   9.14  21600.0  \n",
              "2     17.8  392.83   4.03  34700.0  \n",
              "3     18.7  394.63   2.94  33400.0  \n",
              "4     18.7  396.90   5.33  36200.0  "
            ],
            "text/html": [
              "\n",
              "  <div id=\"df-03eb982a-bac4-4a26-adc8-590fd03cfc75\">\n",
              "    <div class=\"colab-df-container\">\n",
              "      <div>\n",
              "<style scoped>\n",
              "    .dataframe tbody tr th:only-of-type {\n",
              "        vertical-align: middle;\n",
              "    }\n",
              "\n",
              "    .dataframe tbody tr th {\n",
              "        vertical-align: top;\n",
              "    }\n",
              "\n",
              "    .dataframe thead th {\n",
              "        text-align: right;\n",
              "    }\n",
              "</style>\n",
              "<table border=\"1\" class=\"dataframe\">\n",
              "  <thead>\n",
              "    <tr style=\"text-align: right;\">\n",
              "      <th></th>\n",
              "      <th>CRIM</th>\n",
              "      <th>ZN</th>\n",
              "      <th>INDUS</th>\n",
              "      <th>CHAS</th>\n",
              "      <th>NOX</th>\n",
              "      <th>RM</th>\n",
              "      <th>AGE</th>\n",
              "      <th>DIS</th>\n",
              "      <th>RAD</th>\n",
              "      <th>TAX</th>\n",
              "      <th>PTRATIO</th>\n",
              "      <th>B</th>\n",
              "      <th>LSTAT</th>\n",
              "      <th>Price</th>\n",
              "    </tr>\n",
              "  </thead>\n",
              "  <tbody>\n",
              "    <tr>\n",
              "      <th>0</th>\n",
              "      <td>0.00632</td>\n",
              "      <td>18.0</td>\n",
              "      <td>2.31</td>\n",
              "      <td>0.0</td>\n",
              "      <td>0.538</td>\n",
              "      <td>6.575</td>\n",
              "      <td>65.2</td>\n",
              "      <td>4.0900</td>\n",
              "      <td>1.0</td>\n",
              "      <td>296.0</td>\n",
              "      <td>15.3</td>\n",
              "      <td>396.90</td>\n",
              "      <td>4.98</td>\n",
              "      <td>24000.0</td>\n",
              "    </tr>\n",
              "    <tr>\n",
              "      <th>1</th>\n",
              "      <td>0.02731</td>\n",
              "      <td>0.0</td>\n",
              "      <td>7.07</td>\n",
              "      <td>0.0</td>\n",
              "      <td>0.469</td>\n",
              "      <td>6.421</td>\n",
              "      <td>78.9</td>\n",
              "      <td>4.9671</td>\n",
              "      <td>2.0</td>\n",
              "      <td>242.0</td>\n",
              "      <td>17.8</td>\n",
              "      <td>396.90</td>\n",
              "      <td>9.14</td>\n",
              "      <td>21600.0</td>\n",
              "    </tr>\n",
              "    <tr>\n",
              "      <th>2</th>\n",
              "      <td>0.02729</td>\n",
              "      <td>0.0</td>\n",
              "      <td>7.07</td>\n",
              "      <td>0.0</td>\n",
              "      <td>0.469</td>\n",
              "      <td>7.185</td>\n",
              "      <td>61.1</td>\n",
              "      <td>4.9671</td>\n",
              "      <td>2.0</td>\n",
              "      <td>242.0</td>\n",
              "      <td>17.8</td>\n",
              "      <td>392.83</td>\n",
              "      <td>4.03</td>\n",
              "      <td>34700.0</td>\n",
              "    </tr>\n",
              "    <tr>\n",
              "      <th>3</th>\n",
              "      <td>0.03237</td>\n",
              "      <td>0.0</td>\n",
              "      <td>2.18</td>\n",
              "      <td>0.0</td>\n",
              "      <td>0.458</td>\n",
              "      <td>6.998</td>\n",
              "      <td>45.8</td>\n",
              "      <td>6.0622</td>\n",
              "      <td>3.0</td>\n",
              "      <td>222.0</td>\n",
              "      <td>18.7</td>\n",
              "      <td>394.63</td>\n",
              "      <td>2.94</td>\n",
              "      <td>33400.0</td>\n",
              "    </tr>\n",
              "    <tr>\n",
              "      <th>4</th>\n",
              "      <td>0.06905</td>\n",
              "      <td>0.0</td>\n",
              "      <td>2.18</td>\n",
              "      <td>0.0</td>\n",
              "      <td>0.458</td>\n",
              "      <td>7.147</td>\n",
              "      <td>54.2</td>\n",
              "      <td>6.0622</td>\n",
              "      <td>3.0</td>\n",
              "      <td>222.0</td>\n",
              "      <td>18.7</td>\n",
              "      <td>396.90</td>\n",
              "      <td>5.33</td>\n",
              "      <td>36200.0</td>\n",
              "    </tr>\n",
              "  </tbody>\n",
              "</table>\n",
              "</div>\n",
              "      <button class=\"colab-df-convert\" onclick=\"convertToInteractive('df-03eb982a-bac4-4a26-adc8-590fd03cfc75')\"\n",
              "              title=\"Convert this dataframe to an interactive table.\"\n",
              "              style=\"display:none;\">\n",
              "        \n",
              "  <svg xmlns=\"http://www.w3.org/2000/svg\" height=\"24px\"viewBox=\"0 0 24 24\"\n",
              "       width=\"24px\">\n",
              "    <path d=\"M0 0h24v24H0V0z\" fill=\"none\"/>\n",
              "    <path d=\"M18.56 5.44l.94 2.06.94-2.06 2.06-.94-2.06-.94-.94-2.06-.94 2.06-2.06.94zm-11 1L8.5 8.5l.94-2.06 2.06-.94-2.06-.94L8.5 2.5l-.94 2.06-2.06.94zm10 10l.94 2.06.94-2.06 2.06-.94-2.06-.94-.94-2.06-.94 2.06-2.06.94z\"/><path d=\"M17.41 7.96l-1.37-1.37c-.4-.4-.92-.59-1.43-.59-.52 0-1.04.2-1.43.59L10.3 9.45l-7.72 7.72c-.78.78-.78 2.05 0 2.83L4 21.41c.39.39.9.59 1.41.59.51 0 1.02-.2 1.41-.59l7.78-7.78 2.81-2.81c.8-.78.8-2.07 0-2.86zM5.41 20L4 18.59l7.72-7.72 1.47 1.35L5.41 20z\"/>\n",
              "  </svg>\n",
              "      </button>\n",
              "      \n",
              "  <style>\n",
              "    .colab-df-container {\n",
              "      display:flex;\n",
              "      flex-wrap:wrap;\n",
              "      gap: 12px;\n",
              "    }\n",
              "\n",
              "    .colab-df-convert {\n",
              "      background-color: #E8F0FE;\n",
              "      border: none;\n",
              "      border-radius: 50%;\n",
              "      cursor: pointer;\n",
              "      display: none;\n",
              "      fill: #1967D2;\n",
              "      height: 32px;\n",
              "      padding: 0 0 0 0;\n",
              "      width: 32px;\n",
              "    }\n",
              "\n",
              "    .colab-df-convert:hover {\n",
              "      background-color: #E2EBFA;\n",
              "      box-shadow: 0px 1px 2px rgba(60, 64, 67, 0.3), 0px 1px 3px 1px rgba(60, 64, 67, 0.15);\n",
              "      fill: #174EA6;\n",
              "    }\n",
              "\n",
              "    [theme=dark] .colab-df-convert {\n",
              "      background-color: #3B4455;\n",
              "      fill: #D2E3FC;\n",
              "    }\n",
              "\n",
              "    [theme=dark] .colab-df-convert:hover {\n",
              "      background-color: #434B5C;\n",
              "      box-shadow: 0px 1px 3px 1px rgba(0, 0, 0, 0.15);\n",
              "      filter: drop-shadow(0px 1px 2px rgba(0, 0, 0, 0.3));\n",
              "      fill: #FFFFFF;\n",
              "    }\n",
              "  </style>\n",
              "\n",
              "      <script>\n",
              "        const buttonEl =\n",
              "          document.querySelector('#df-03eb982a-bac4-4a26-adc8-590fd03cfc75 button.colab-df-convert');\n",
              "        buttonEl.style.display =\n",
              "          google.colab.kernel.accessAllowed ? 'block' : 'none';\n",
              "\n",
              "        async function convertToInteractive(key) {\n",
              "          const element = document.querySelector('#df-03eb982a-bac4-4a26-adc8-590fd03cfc75');\n",
              "          const dataTable =\n",
              "            await google.colab.kernel.invokeFunction('convertToInteractive',\n",
              "                                                     [key], {});\n",
              "          if (!dataTable) return;\n",
              "\n",
              "          const docLinkHtml = 'Like what you see? Visit the ' +\n",
              "            '<a target=\"_blank\" href=https://colab.research.google.com/notebooks/data_table.ipynb>data table notebook</a>'\n",
              "            + ' to learn more about interactive tables.';\n",
              "          element.innerHTML = '';\n",
              "          dataTable['output_type'] = 'display_data';\n",
              "          await google.colab.output.renderOutput(dataTable, element);\n",
              "          const docLink = document.createElement('div');\n",
              "          docLink.innerHTML = docLinkHtml;\n",
              "          element.appendChild(docLink);\n",
              "        }\n",
              "      </script>\n",
              "    </div>\n",
              "  </div>\n",
              "  "
            ]
          },
          "metadata": {},
          "execution_count": 7
        }
      ]
    },
    {
      "cell_type": "code",
      "source": [
        "df.info()"
      ],
      "metadata": {
        "id": "TrELsYz_GRHk",
        "colab": {
          "base_uri": "https://localhost:8080/"
        },
        "outputId": "38860b60-f639-4e3f-9e96-a41526e81605"
      },
      "execution_count": 8,
      "outputs": [
        {
          "output_type": "stream",
          "name": "stdout",
          "text": [
            "<class 'pandas.core.frame.DataFrame'>\n",
            "RangeIndex: 506 entries, 0 to 505\n",
            "Data columns (total 14 columns):\n",
            " #   Column   Non-Null Count  Dtype  \n",
            "---  ------   --------------  -----  \n",
            " 0   CRIM     506 non-null    float64\n",
            " 1   ZN       506 non-null    float64\n",
            " 2   INDUS    506 non-null    float64\n",
            " 3   CHAS     506 non-null    float64\n",
            " 4   NOX      506 non-null    float64\n",
            " 5   RM       506 non-null    float64\n",
            " 6   AGE      506 non-null    float64\n",
            " 7   DIS      506 non-null    float64\n",
            " 8   RAD      506 non-null    float64\n",
            " 9   TAX      506 non-null    float64\n",
            " 10  PTRATIO  506 non-null    float64\n",
            " 11  B        506 non-null    float64\n",
            " 12  LSTAT    506 non-null    float64\n",
            " 13  Price    506 non-null    float64\n",
            "dtypes: float64(14)\n",
            "memory usage: 55.5 KB\n"
          ]
        }
      ]
    },
    {
      "cell_type": "code",
      "source": [
        "df.describe().T"
      ],
      "metadata": {
        "colab": {
          "base_uri": "https://localhost:8080/",
          "height": 488
        },
        "id": "qG_ae_SHF2W7",
        "outputId": "966253b2-1a8f-44a9-cc52-846ce5b29293"
      },
      "execution_count": 9,
      "outputs": [
        {
          "output_type": "execute_result",
          "data": {
            "text/plain": [
              "         count          mean          std         min           25%  \\\n",
              "CRIM     506.0      3.613524     8.601545     0.00632      0.082045   \n",
              "ZN       506.0     11.363636    23.322453     0.00000      0.000000   \n",
              "INDUS    506.0     11.136779     6.860353     0.46000      5.190000   \n",
              "CHAS     506.0      0.069170     0.253994     0.00000      0.000000   \n",
              "NOX      506.0      0.554695     0.115878     0.38500      0.449000   \n",
              "RM       506.0      6.284634     0.702617     3.56100      5.885500   \n",
              "AGE      506.0     68.574901    28.148861     2.90000     45.025000   \n",
              "DIS      506.0      3.795043     2.105710     1.12960      2.100175   \n",
              "RAD      506.0      9.549407     8.707259     1.00000      4.000000   \n",
              "TAX      506.0    408.237154   168.537116   187.00000    279.000000   \n",
              "PTRATIO  506.0     18.455534     2.164946    12.60000     17.400000   \n",
              "B        506.0    356.674032    91.294864     0.32000    375.377500   \n",
              "LSTAT    506.0     12.653063     7.141062     1.73000      6.950000   \n",
              "Price    506.0  22532.806324  9197.104087  5000.00000  17025.000000   \n",
              "\n",
              "                 50%           75%         max  \n",
              "CRIM         0.25651      3.677083     88.9762  \n",
              "ZN           0.00000     12.500000    100.0000  \n",
              "INDUS        9.69000     18.100000     27.7400  \n",
              "CHAS         0.00000      0.000000      1.0000  \n",
              "NOX          0.53800      0.624000      0.8710  \n",
              "RM           6.20850      6.623500      8.7800  \n",
              "AGE         77.50000     94.075000    100.0000  \n",
              "DIS          3.20745      5.188425     12.1265  \n",
              "RAD          5.00000     24.000000     24.0000  \n",
              "TAX        330.00000    666.000000    711.0000  \n",
              "PTRATIO     19.05000     20.200000     22.0000  \n",
              "B          391.44000    396.225000    396.9000  \n",
              "LSTAT       11.36000     16.955000     37.9700  \n",
              "Price    21200.00000  25000.000000  50000.0000  "
            ],
            "text/html": [
              "\n",
              "  <div id=\"df-47a96dc6-0aa9-40dd-acf2-8f729c3b7c55\">\n",
              "    <div class=\"colab-df-container\">\n",
              "      <div>\n",
              "<style scoped>\n",
              "    .dataframe tbody tr th:only-of-type {\n",
              "        vertical-align: middle;\n",
              "    }\n",
              "\n",
              "    .dataframe tbody tr th {\n",
              "        vertical-align: top;\n",
              "    }\n",
              "\n",
              "    .dataframe thead th {\n",
              "        text-align: right;\n",
              "    }\n",
              "</style>\n",
              "<table border=\"1\" class=\"dataframe\">\n",
              "  <thead>\n",
              "    <tr style=\"text-align: right;\">\n",
              "      <th></th>\n",
              "      <th>count</th>\n",
              "      <th>mean</th>\n",
              "      <th>std</th>\n",
              "      <th>min</th>\n",
              "      <th>25%</th>\n",
              "      <th>50%</th>\n",
              "      <th>75%</th>\n",
              "      <th>max</th>\n",
              "    </tr>\n",
              "  </thead>\n",
              "  <tbody>\n",
              "    <tr>\n",
              "      <th>CRIM</th>\n",
              "      <td>506.0</td>\n",
              "      <td>3.613524</td>\n",
              "      <td>8.601545</td>\n",
              "      <td>0.00632</td>\n",
              "      <td>0.082045</td>\n",
              "      <td>0.25651</td>\n",
              "      <td>3.677083</td>\n",
              "      <td>88.9762</td>\n",
              "    </tr>\n",
              "    <tr>\n",
              "      <th>ZN</th>\n",
              "      <td>506.0</td>\n",
              "      <td>11.363636</td>\n",
              "      <td>23.322453</td>\n",
              "      <td>0.00000</td>\n",
              "      <td>0.000000</td>\n",
              "      <td>0.00000</td>\n",
              "      <td>12.500000</td>\n",
              "      <td>100.0000</td>\n",
              "    </tr>\n",
              "    <tr>\n",
              "      <th>INDUS</th>\n",
              "      <td>506.0</td>\n",
              "      <td>11.136779</td>\n",
              "      <td>6.860353</td>\n",
              "      <td>0.46000</td>\n",
              "      <td>5.190000</td>\n",
              "      <td>9.69000</td>\n",
              "      <td>18.100000</td>\n",
              "      <td>27.7400</td>\n",
              "    </tr>\n",
              "    <tr>\n",
              "      <th>CHAS</th>\n",
              "      <td>506.0</td>\n",
              "      <td>0.069170</td>\n",
              "      <td>0.253994</td>\n",
              "      <td>0.00000</td>\n",
              "      <td>0.000000</td>\n",
              "      <td>0.00000</td>\n",
              "      <td>0.000000</td>\n",
              "      <td>1.0000</td>\n",
              "    </tr>\n",
              "    <tr>\n",
              "      <th>NOX</th>\n",
              "      <td>506.0</td>\n",
              "      <td>0.554695</td>\n",
              "      <td>0.115878</td>\n",
              "      <td>0.38500</td>\n",
              "      <td>0.449000</td>\n",
              "      <td>0.53800</td>\n",
              "      <td>0.624000</td>\n",
              "      <td>0.8710</td>\n",
              "    </tr>\n",
              "    <tr>\n",
              "      <th>RM</th>\n",
              "      <td>506.0</td>\n",
              "      <td>6.284634</td>\n",
              "      <td>0.702617</td>\n",
              "      <td>3.56100</td>\n",
              "      <td>5.885500</td>\n",
              "      <td>6.20850</td>\n",
              "      <td>6.623500</td>\n",
              "      <td>8.7800</td>\n",
              "    </tr>\n",
              "    <tr>\n",
              "      <th>AGE</th>\n",
              "      <td>506.0</td>\n",
              "      <td>68.574901</td>\n",
              "      <td>28.148861</td>\n",
              "      <td>2.90000</td>\n",
              "      <td>45.025000</td>\n",
              "      <td>77.50000</td>\n",
              "      <td>94.075000</td>\n",
              "      <td>100.0000</td>\n",
              "    </tr>\n",
              "    <tr>\n",
              "      <th>DIS</th>\n",
              "      <td>506.0</td>\n",
              "      <td>3.795043</td>\n",
              "      <td>2.105710</td>\n",
              "      <td>1.12960</td>\n",
              "      <td>2.100175</td>\n",
              "      <td>3.20745</td>\n",
              "      <td>5.188425</td>\n",
              "      <td>12.1265</td>\n",
              "    </tr>\n",
              "    <tr>\n",
              "      <th>RAD</th>\n",
              "      <td>506.0</td>\n",
              "      <td>9.549407</td>\n",
              "      <td>8.707259</td>\n",
              "      <td>1.00000</td>\n",
              "      <td>4.000000</td>\n",
              "      <td>5.00000</td>\n",
              "      <td>24.000000</td>\n",
              "      <td>24.0000</td>\n",
              "    </tr>\n",
              "    <tr>\n",
              "      <th>TAX</th>\n",
              "      <td>506.0</td>\n",
              "      <td>408.237154</td>\n",
              "      <td>168.537116</td>\n",
              "      <td>187.00000</td>\n",
              "      <td>279.000000</td>\n",
              "      <td>330.00000</td>\n",
              "      <td>666.000000</td>\n",
              "      <td>711.0000</td>\n",
              "    </tr>\n",
              "    <tr>\n",
              "      <th>PTRATIO</th>\n",
              "      <td>506.0</td>\n",
              "      <td>18.455534</td>\n",
              "      <td>2.164946</td>\n",
              "      <td>12.60000</td>\n",
              "      <td>17.400000</td>\n",
              "      <td>19.05000</td>\n",
              "      <td>20.200000</td>\n",
              "      <td>22.0000</td>\n",
              "    </tr>\n",
              "    <tr>\n",
              "      <th>B</th>\n",
              "      <td>506.0</td>\n",
              "      <td>356.674032</td>\n",
              "      <td>91.294864</td>\n",
              "      <td>0.32000</td>\n",
              "      <td>375.377500</td>\n",
              "      <td>391.44000</td>\n",
              "      <td>396.225000</td>\n",
              "      <td>396.9000</td>\n",
              "    </tr>\n",
              "    <tr>\n",
              "      <th>LSTAT</th>\n",
              "      <td>506.0</td>\n",
              "      <td>12.653063</td>\n",
              "      <td>7.141062</td>\n",
              "      <td>1.73000</td>\n",
              "      <td>6.950000</td>\n",
              "      <td>11.36000</td>\n",
              "      <td>16.955000</td>\n",
              "      <td>37.9700</td>\n",
              "    </tr>\n",
              "    <tr>\n",
              "      <th>Price</th>\n",
              "      <td>506.0</td>\n",
              "      <td>22532.806324</td>\n",
              "      <td>9197.104087</td>\n",
              "      <td>5000.00000</td>\n",
              "      <td>17025.000000</td>\n",
              "      <td>21200.00000</td>\n",
              "      <td>25000.000000</td>\n",
              "      <td>50000.0000</td>\n",
              "    </tr>\n",
              "  </tbody>\n",
              "</table>\n",
              "</div>\n",
              "      <button class=\"colab-df-convert\" onclick=\"convertToInteractive('df-47a96dc6-0aa9-40dd-acf2-8f729c3b7c55')\"\n",
              "              title=\"Convert this dataframe to an interactive table.\"\n",
              "              style=\"display:none;\">\n",
              "        \n",
              "  <svg xmlns=\"http://www.w3.org/2000/svg\" height=\"24px\"viewBox=\"0 0 24 24\"\n",
              "       width=\"24px\">\n",
              "    <path d=\"M0 0h24v24H0V0z\" fill=\"none\"/>\n",
              "    <path d=\"M18.56 5.44l.94 2.06.94-2.06 2.06-.94-2.06-.94-.94-2.06-.94 2.06-2.06.94zm-11 1L8.5 8.5l.94-2.06 2.06-.94-2.06-.94L8.5 2.5l-.94 2.06-2.06.94zm10 10l.94 2.06.94-2.06 2.06-.94-2.06-.94-.94-2.06-.94 2.06-2.06.94z\"/><path d=\"M17.41 7.96l-1.37-1.37c-.4-.4-.92-.59-1.43-.59-.52 0-1.04.2-1.43.59L10.3 9.45l-7.72 7.72c-.78.78-.78 2.05 0 2.83L4 21.41c.39.39.9.59 1.41.59.51 0 1.02-.2 1.41-.59l7.78-7.78 2.81-2.81c.8-.78.8-2.07 0-2.86zM5.41 20L4 18.59l7.72-7.72 1.47 1.35L5.41 20z\"/>\n",
              "  </svg>\n",
              "      </button>\n",
              "      \n",
              "  <style>\n",
              "    .colab-df-container {\n",
              "      display:flex;\n",
              "      flex-wrap:wrap;\n",
              "      gap: 12px;\n",
              "    }\n",
              "\n",
              "    .colab-df-convert {\n",
              "      background-color: #E8F0FE;\n",
              "      border: none;\n",
              "      border-radius: 50%;\n",
              "      cursor: pointer;\n",
              "      display: none;\n",
              "      fill: #1967D2;\n",
              "      height: 32px;\n",
              "      padding: 0 0 0 0;\n",
              "      width: 32px;\n",
              "    }\n",
              "\n",
              "    .colab-df-convert:hover {\n",
              "      background-color: #E2EBFA;\n",
              "      box-shadow: 0px 1px 2px rgba(60, 64, 67, 0.3), 0px 1px 3px 1px rgba(60, 64, 67, 0.15);\n",
              "      fill: #174EA6;\n",
              "    }\n",
              "\n",
              "    [theme=dark] .colab-df-convert {\n",
              "      background-color: #3B4455;\n",
              "      fill: #D2E3FC;\n",
              "    }\n",
              "\n",
              "    [theme=dark] .colab-df-convert:hover {\n",
              "      background-color: #434B5C;\n",
              "      box-shadow: 0px 1px 3px 1px rgba(0, 0, 0, 0.15);\n",
              "      filter: drop-shadow(0px 1px 2px rgba(0, 0, 0, 0.3));\n",
              "      fill: #FFFFFF;\n",
              "    }\n",
              "  </style>\n",
              "\n",
              "      <script>\n",
              "        const buttonEl =\n",
              "          document.querySelector('#df-47a96dc6-0aa9-40dd-acf2-8f729c3b7c55 button.colab-df-convert');\n",
              "        buttonEl.style.display =\n",
              "          google.colab.kernel.accessAllowed ? 'block' : 'none';\n",
              "\n",
              "        async function convertToInteractive(key) {\n",
              "          const element = document.querySelector('#df-47a96dc6-0aa9-40dd-acf2-8f729c3b7c55');\n",
              "          const dataTable =\n",
              "            await google.colab.kernel.invokeFunction('convertToInteractive',\n",
              "                                                     [key], {});\n",
              "          if (!dataTable) return;\n",
              "\n",
              "          const docLinkHtml = 'Like what you see? Visit the ' +\n",
              "            '<a target=\"_blank\" href=https://colab.research.google.com/notebooks/data_table.ipynb>data table notebook</a>'\n",
              "            + ' to learn more about interactive tables.';\n",
              "          element.innerHTML = '';\n",
              "          dataTable['output_type'] = 'display_data';\n",
              "          await google.colab.output.renderOutput(dataTable, element);\n",
              "          const docLink = document.createElement('div');\n",
              "          docLink.innerHTML = docLinkHtml;\n",
              "          element.appendChild(docLink);\n",
              "        }\n",
              "      </script>\n",
              "    </div>\n",
              "  </div>\n",
              "  "
            ]
          },
          "metadata": {},
          "execution_count": 9
        }
      ]
    },
    {
      "cell_type": "code",
      "source": [
        "df.hist(figsize=(14, 9))"
      ],
      "metadata": {
        "colab": {
          "base_uri": "https://localhost:8080/",
          "height": 863
        },
        "id": "RA87nSaDF9hx",
        "outputId": "bef01e38-86c1-4420-fedb-01b3931d4eef"
      },
      "execution_count": 10,
      "outputs": [
        {
          "output_type": "execute_result",
          "data": {
            "text/plain": [
              "array([[<matplotlib.axes._subplots.AxesSubplot object at 0x7fa3063796d0>,\n",
              "        <matplotlib.axes._subplots.AxesSubplot object at 0x7fa306352c10>,\n",
              "        <matplotlib.axes._subplots.AxesSubplot object at 0x7fa306318250>,\n",
              "        <matplotlib.axes._subplots.AxesSubplot object at 0x7fa3062cd850>],\n",
              "       [<matplotlib.axes._subplots.AxesSubplot object at 0x7fa306286dd0>,\n",
              "        <matplotlib.axes._subplots.AxesSubplot object at 0x7fa306248410>,\n",
              "        <matplotlib.axes._subplots.AxesSubplot object at 0x7fa3061ffa90>,\n",
              "        <matplotlib.axes._subplots.AxesSubplot object at 0x7fa3061b6fd0>],\n",
              "       [<matplotlib.axes._subplots.AxesSubplot object at 0x7fa3061c2090>,\n",
              "        <matplotlib.axes._subplots.AxesSubplot object at 0x7fa3061776d0>,\n",
              "        <matplotlib.axes._subplots.AxesSubplot object at 0x7fa3060f0210>,\n",
              "        <matplotlib.axes._subplots.AxesSubplot object at 0x7fa306129810>],\n",
              "       [<matplotlib.axes._subplots.AxesSubplot object at 0x7fa3060dee10>,\n",
              "        <matplotlib.axes._subplots.AxesSubplot object at 0x7fa3060a1450>,\n",
              "        <matplotlib.axes._subplots.AxesSubplot object at 0x7fa306058a50>,\n",
              "        <matplotlib.axes._subplots.AxesSubplot object at 0x7fa306003b90>]],\n",
              "      dtype=object)"
            ]
          },
          "metadata": {},
          "execution_count": 10
        },
        {
          "output_type": "display_data",
          "data": {
            "text/plain": [
              "<Figure size 1008x648 with 16 Axes>"
            ],
            "image/png": "[encoded data removed]"
          },
          "metadata": {
            "needs_background": "light"
          }
        }
      ]
    },
    {
      "cell_type": "code",
      "source": [
        "df.isna().sum()"
      ],
      "metadata": {
        "colab": {
          "base_uri": "https://localhost:8080/"
        },
        "id": "IPaoTkc-Ga-o",
        "outputId": "734dde4a-1dcb-46a1-b4e6-ade46d57a934"
      },
      "execution_count": 11,
      "outputs": [
        {
          "output_type": "execute_result",
          "data": {
            "text/plain": [
              "CRIM       0\n",
              "ZN         0\n",
              "INDUS      0\n",
              "CHAS       0\n",
              "NOX        0\n",
              "RM         0\n",
              "AGE        0\n",
              "DIS        0\n",
              "RAD        0\n",
              "TAX        0\n",
              "PTRATIO    0\n",
              "B          0\n",
              "LSTAT      0\n",
              "Price      0\n",
              "dtype: int64"
            ]
          },
          "metadata": {},
          "execution_count": 11
        }
      ]
    },
    {
      "cell_type": "code",
      "source": [
        "df.duplicated().any()"
      ],
      "metadata": {
        "colab": {
          "base_uri": "https://localhost:8080/"
        },
        "id": "U9uNlQp5JpMs",
        "outputId": "f4f82d84-6b2a-4c6f-abff-c2f1a4ce972d"
      },
      "execution_count": 12,
      "outputs": [
        {
          "output_type": "execute_result",
          "data": {
            "text/plain": [
              "False"
            ]
          },
          "metadata": {},
          "execution_count": 12
        }
      ]
    },
    {
      "cell_type": "code",
      "source": [
        "data = df.drop(columns=['Price'])\n",
        "target = df.Price"
      ],
      "metadata": {
        "id": "CUrlNDqfG15B"
      },
      "execution_count": 13,
      "outputs": []
    },
    {
      "cell_type": "code",
      "source": [
        "from sklearn.model_selection import train_test_split\n",
        "\n",
        "X_train, X_test, y_train, y_test = train_test_split(\n",
        "    data, target, test_size=.15, random_state=1,\n",
        ")\n",
        "\n",
        "X_train.shape, y_train.shape, X_test.shape, y_test.shape"
      ],
      "metadata": {
        "colab": {
          "base_uri": "https://localhost:8080/"
        },
        "id": "8epF03fIJJLP",
        "outputId": "ea9cc4b2-50c6-4310-abd7-cfd50543a4d1"
      },
      "execution_count": 14,
      "outputs": [
        {
          "output_type": "execute_result",
          "data": {
            "text/plain": [
              "((430, 13), (430,), (76, 13), (76,))"
            ]
          },
          "metadata": {},
          "execution_count": 14
        }
      ]
    },
    {
      "cell_type": "code",
      "source": [
        "from sklearn.preprocessing import StandardScaler\n",
        "\n",
        "scaler = StandardScaler()\n",
        "X_train[data.columns] = scaler.fit_transform(X_train[data.columns])\n",
        "X_test[data.columns] = scaler.transform(X_test[data.columns])"
      ],
      "metadata": {
        "id": "VIaVectjJtaE"
      },
      "execution_count": 15,
      "outputs": []
    },
    {
      "cell_type": "code",
      "source": [
        "from sklearn.linear_model import (\n",
        "    LinearRegression,\n",
        "    Ridge,\n",
        "    Lasso,\n",
        ")\n",
        "from sklearn.model_selection import (\n",
        "    KFold,\n",
        "    cross_validate,\n",
        ")\n",
        "from sklearn.metrics import r2_score\n",
        "\n",
        "models = [LinearRegression, Ridge, Lasso]\n",
        "results = []\n",
        "coefficients = {}\n",
        "\n",
        "for model in models:\n",
        "  if model == LinearRegression:\n",
        "    clf = model()\n",
        "  else:\n",
        "    clf = model(alpha=0.5)\n",
        "  \n",
        "  kfold = KFold(n_splits=10, shuffle=True, random_state=0)\n",
        "  cv_results = cross_validate(\n",
        "      clf, data, target, scoring='neg_mean_absolute_percentage_error',\n",
        "      cv=kfold, n_jobs=-1,\n",
        "      return_train_score=True,\n",
        "  )\n",
        "\n",
        "  cv_results = pd.DataFrame(cv_results)\n",
        "  cv_results['train_error'] = -1 * cv_results['train_score']\n",
        "  cv_results['test_error'] = -1 * cv_results['test_score']\n",
        "\n",
        "  results.append(cv_results)\n",
        "  \n",
        "\n",
        "  clf.fit(X_train, y_train)\n",
        "  y_pred = clf.predict(X_test)\n",
        "\n",
        "  coef = pd.DataFrame()\n",
        "  coef['columns'] = X_train.columns\n",
        "  coef['coefficient_estimate'] = pd.Series(clf.coef_)\n",
        "  coefficients[model.__name__] = coef\n",
        "\n",
        "  print(\n",
        "      f\"{model.__name__:22} : {cv_results['test_error'].mean():.3f} +/-\"\n",
        "      f\" {cv_results['test_error'].std():.3f}\"\n",
        "      f\" R² score: {100 * r2_score(y_test, y_pred):.3f}\"\n",
        "  )\n",
        "\n",
        "\n"
      ],
      "metadata": {
        "colab": {
          "base_uri": "https://localhost:8080/"
        },
        "id": "3KowL21cKIRc",
        "outputId": "683cd721-8299-4c6a-b599-afa074588cb4"
      },
      "execution_count": 16,
      "outputs": [
        {
          "output_type": "stream",
          "name": "stdout",
          "text": [
            "LinearRegression       : 0.169 +/- 0.029 R² score: 76.211\n",
            "Ridge                  : 0.169 +/- 0.029 R² score: 76.230\n",
            "Lasso                  : 0.169 +/- 0.029 R² score: 76.214\n"
          ]
        }
      ]
    },
    {
      "cell_type": "code",
      "source": [
        "for item in results:\n",
        "  print(item)\n",
        "  print()"
      ],
      "metadata": {
        "colab": {
          "base_uri": "https://localhost:8080/"
        },
        "id": "r-ss13riOH9B",
        "outputId": "d6f97c96-5db0-4197-c0e5-2ba85e173e39"
      },
      "execution_count": 17,
      "outputs": [
        {
          "output_type": "stream",
          "name": "stdout",
          "text": [
            "   fit_time  score_time  test_score  train_score  train_error  test_error\n",
            "0  0.005345    0.002934   -0.193192    -0.158118     0.158118    0.193192\n",
            "1  0.005819    0.003412   -0.181611    -0.160892     0.160892    0.181611\n",
            "2  0.004589    0.002865   -0.190929    -0.163657     0.163657    0.190929\n",
            "3  0.004619    0.026597   -0.147074    -0.167632     0.167632    0.147074\n",
            "4  0.011519    0.003139   -0.170946    -0.168242     0.168242    0.170946\n",
            "5  0.017452    0.009567   -0.119282    -0.169589     0.169589    0.119282\n",
            "6  0.004271    0.008879   -0.184604    -0.163216     0.163216    0.184604\n",
            "7  0.005079    0.002674   -0.211964    -0.158284     0.158284    0.211964\n",
            "8  0.004567    0.002797   -0.140728    -0.163507     0.163507    0.140728\n",
            "9  0.004340    0.009548   -0.148679    -0.169074     0.169074    0.148679\n",
            "\n",
            "   fit_time  score_time  test_score  train_score  train_error  test_error\n",
            "0  0.010445    0.002560   -0.191409    -0.158610     0.158610    0.191409\n",
            "1  0.005595    0.014318   -0.179206    -0.160454     0.160454    0.179206\n",
            "2  0.004723    0.007273   -0.192289    -0.163287     0.163287    0.192289\n",
            "3  0.011332    0.003024   -0.147146    -0.167150     0.167150    0.147146\n",
            "4  0.006447    0.002962   -0.171100    -0.168465     0.168465    0.171100\n",
            "5  0.003984    0.006870   -0.118748    -0.169426     0.169426    0.118748\n",
            "6  0.004732    0.002893   -0.187087    -0.163055     0.163055    0.187087\n",
            "7  0.012516    0.002917   -0.210851    -0.158356     0.158356    0.210851\n",
            "8  0.004315    0.014484   -0.142985    -0.163445     0.163445    0.142985\n",
            "9  0.004137    0.002635   -0.148170    -0.169075     0.169075    0.148170\n",
            "\n",
            "   fit_time  score_time  test_score  train_score  train_error  test_error\n",
            "0  0.005545    0.004963   -0.193101    -0.158114     0.158114    0.193101\n",
            "1  0.005203    0.008548   -0.181533    -0.160851     0.160851    0.181533\n",
            "2  0.025252    0.003088   -0.190942    -0.163624     0.163624    0.190942\n",
            "3  0.009735    0.003127   -0.147025    -0.167600     0.167600    0.147025\n",
            "4  0.012566    0.003232   -0.170892    -0.168234     0.168234    0.170892\n",
            "5  0.004622    0.010202   -0.119231    -0.169557     0.169557    0.119231\n",
            "6  0.005020    0.010453   -0.184669    -0.163191     0.163191    0.184669\n",
            "7  0.004733    0.002809   -0.211926    -0.158252     0.158252    0.211926\n",
            "8  0.004354    0.010351   -0.140815    -0.163491     0.163491    0.140815\n",
            "9  0.005257    0.009048   -0.148632    -0.169058     0.169058    0.148632\n",
            "\n"
          ]
        }
      ]
    },
    {
      "cell_type": "code",
      "source": [
        "for k, v in coefficients.items():\n",
        "  print(k, ' :\\n', v)\n",
        "  print()"
      ],
      "metadata": {
        "colab": {
          "base_uri": "https://localhost:8080/"
        },
        "id": "BCRx_MmJfG_F",
        "outputId": "9e230e3d-4f9e-45e1-8f30-fd4df4d2b6ec"
      },
      "execution_count": 22,
      "outputs": [
        {
          "output_type": "stream",
          "name": "stdout",
          "text": [
            "LinearRegression  :\n",
            "     columns  coefficient_estimate\n",
            "0      CRIM          -1043.406340\n",
            "1        ZN           1329.540428\n",
            "2     INDUS             46.838283\n",
            "3      CHAS            687.598952\n",
            "4       NOX          -2243.720211\n",
            "5        RM           2317.403490\n",
            "6       AGE            196.641273\n",
            "7       DIS          -3240.770926\n",
            "8       RAD           2750.210546\n",
            "9       TAX          -1929.984716\n",
            "10  PTRATIO          -2072.769583\n",
            "11        B            798.882641\n",
            "12    LSTAT          -3911.215357\n",
            "\n",
            "Ridge  :\n",
            "     columns  coefficient_estimate\n",
            "0      CRIM          -1037.957126\n",
            "1        ZN           1317.330333\n",
            "2     INDUS             32.360459\n",
            "3      CHAS            689.758800\n",
            "4       NOX          -2225.740259\n",
            "5        RM           2323.986112\n",
            "6       AGE            191.080019\n",
            "7       DIS          -3222.083563\n",
            "8       RAD           2705.227606\n",
            "9       TAX          -1888.326262\n",
            "10  PTRATIO          -2068.181589\n",
            "11        B            798.314913\n",
            "12    LSTAT          -3901.752590\n",
            "\n",
            "Lasso  :\n",
            "     columns  coefficient_estimate\n",
            "0      CRIM          -1041.999395\n",
            "1        ZN           1326.676199\n",
            "2     INDUS             41.944879\n",
            "3      CHAS            687.766824\n",
            "4       NOX          -2239.438557\n",
            "5        RM           2318.325335\n",
            "6       AGE            194.262266\n",
            "7       DIS          -3238.539293\n",
            "8       RAD           2740.449329\n",
            "9       TAX          -1920.457112\n",
            "10  PTRATIO          -2071.655237\n",
            "11        B            798.339492\n",
            "12    LSTAT          -3909.974002\n",
            "\n"
          ]
        }
      ]
    },
    {
      "cell_type": "code",
      "source": [
        "fig, ax = plt.subplots(figsize=(14, 8))\n",
        "ax.bar(\n",
        "      coefficients['LinearRegression']['columns'],\n",
        "      coefficients['LinearRegression']['coefficient_estimate']\n",
        "      )\n",
        "ax.spines['bottom'].set_position('zero')"
      ],
      "metadata": {
        "colab": {
          "base_uri": "https://localhost:8080/",
          "height": 466
        },
        "id": "p7gzLRVLgJv2",
        "outputId": "93da1b1b-0396-4996-e4db-3d4f24fc6585"
      },
      "execution_count": 24,
      "outputs": [
        {
          "output_type": "display_data",
          "data": {
            "text/plain": [
              "<Figure size 1008x576 with 1 Axes>"
            ],
            "image/png": "[encoded data removed]"
          },
          "metadata": {
            "needs_background": "light"
          }
        }
      ]
    },
    {
      "cell_type": "code",
      "source": [
        "fig, ax = plt.subplots(figsize=(14, 8))\n",
        "ax.bar(\n",
        "      coefficients['Ridge']['columns'],\n",
        "      coefficients['Ridge']['coefficient_estimate']\n",
        "      )\n",
        "ax.spines['bottom'].set_position('zero')"
      ],
      "metadata": {
        "colab": {
          "base_uri": "https://localhost:8080/",
          "height": 468
        },
        "id": "CgGhFAahguNx",
        "outputId": "55669934-7053-4fec-e40c-4e6f08ed15b9"
      },
      "execution_count": 25,
      "outputs": [
        {
          "output_type": "display_data",
          "data": {
            "text/plain": [
              "<Figure size 1008x576 with 1 Axes>"
            ],
            "image/png": "[encoded data removed]"
          },
          "metadata": {
            "needs_background": "light"
          }
        }
      ]
    },
    {
      "cell_type": "code",
      "source": [
        "fig, ax = plt.subplots(figsize=(14, 8))\n",
        "ax.bar(\n",
        "      coefficients['Lasso']['columns'],\n",
        "      coefficients['Lasso']['coefficient_estimate']\n",
        "      )\n",
        "ax.spines['bottom'].set_position('zero')"
      ],
      "metadata": {
        "colab": {
          "base_uri": "https://localhost:8080/",
          "height": 466
        },
        "id": "SD99NqV_g1Uu",
        "outputId": "57b440c9-cd6a-47b1-ed09-eef77d258ed7"
      },
      "execution_count": 26,
      "outputs": [
        {
          "output_type": "display_data",
          "data": {
            "text/plain": [
              "<Figure size 1008x576 with 1 Axes>"
            ],
            "image/png": "[encoded data removed]"
          },
          "metadata": {
            "needs_background": "light"
          }
        }
      ]
    },
    {
      "cell_type": "code",
      "source": [
        "fig, ax = plt.subplots(3, 1, figsize=(20, 10))\n",
        "for i, k in enumerate(coefficients.keys()):\n",
        "  ax[i].bar(\n",
        "      coefficients[k]['columns'],\n",
        "      coefficients[k]['coefficient_estimate']\n",
        "      )\n",
        "  ax[i].spines['bottom'].set_position('zero')"
      ],
      "metadata": {
        "colab": {
          "base_uri": "https://localhost:8080/",
          "height": 549
        },
        "id": "FUN24DhZV1iV",
        "outputId": "b017e2b3-7304-4dd8-d68b-e3e0dcb84c4b"
      },
      "execution_count": 19,
      "outputs": [
        {
          "output_type": "display_data",
          "data": {
            "text/plain": [
              "<Figure size 1440x720 with 3 Axes>"
            ],
            "image/png": "[encoded data removed]"
          },
          "metadata": {
            "needs_background": "light"
          }
        }
      ]
    },
    {
      "cell_type": "code",
      "source": [
        ""
      ],
      "metadata": {
        "id": "KEJuy6vVZfJV"
      },
      "execution_count": 20,
      "outputs": []
    }
  ]
}